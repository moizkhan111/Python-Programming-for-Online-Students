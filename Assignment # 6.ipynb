{
 "cells": [
  {
   "cell_type": "code",
   "execution_count": null,
   "metadata": {},
   "outputs": [],
   "source": [
    "#question 1\n",
    "Object Oriented Programming is a paradigm in which real world objects are being viewed as separated \n",
    "entities having their own state which is modified only by built in procedures called methods."
   ]
  },
  {
   "cell_type": "code",
   "execution_count": null,
   "metadata": {},
   "outputs": [],
   "source": [
    "#question 2\n",
    "1. Simplicity: software objects model real world objects, so the complexity is reduced and the program\n",
    "    structure is very clear.\n",
    "2. Modularity: each object forms a separate entity whose internal workings are decoupled from other \n",
    "    parts of the system.\n",
    "3. Modifiability: it is easy to make minor changes in the data representation or the procedures in an\n",
    "    OO program. Changes inside a class do not affect any other part of a program, since the only \n",
    "    public interface that the external world has to a class is through the use of methods. \n",
    "4. Extensibility: adding new features or responding to changing operating environments can be solved\n",
    "    by introducing a few new objects and modifying some existing ones.\n",
    "5. Maintainability: objects can be maintained separately, making locating and fixing problems \n",
    "    easier.\n",
    "6. Re-usability: objects can be reused in different programs."
   ]
  },
  {
   "cell_type": "code",
   "execution_count": null,
   "metadata": {},
   "outputs": [],
   "source": [
    "#question 3\n",
    "A function is a piece of code that is called by name. It can be passed data to operate on \n",
    "(i.e. the parameters) and can optionally return data (the return value). All data that is \n",
    "passed to a function is explicitly passed.\n",
    "\n",
    "A method is a piece of code that is called by a name that is associated with an object. In most \n",
    "respects it is identical to a function except for two key differences."
   ]
  },
  {
   "cell_type": "code",
   "execution_count": 1,
   "metadata": {},
   "outputs": [],
   "source": [
    "#question 4\n",
    "Class: Classes provide a means of bundling data and functionality together. Creating a new class \n",
    "       creates a new type of object, allowing new instances of that type to be made. Each class \n",
    "        instance can have attributes attached to it for maintaining its state. Class instances can also    \n",
    "        have methods (defined by its class) for modifying its state.\n",
    "\n",
    "Object: Object is simply a collection of data (variables) and methods (functions) that act on those\n",
    "        data.\n",
    "    \n",
    "Attribute: An attribute is a specification that defines a property of an object, element, or file. \n",
    "    \n",
    "Behaviour: Objects in Python are generally classified according to their behaviors and the features \n",
    "        that they implement. For example, all of the sequence types such as strings,lists and tuples \n",
    "        are grouped together merely because they all happen to support a common set of sequence \n",
    "        operations.\n",
    "    \n",
    "    "
   ]
  },
  {
   "cell_type": "code",
   "execution_count": 11,
   "metadata": {},
   "outputs": [
    {
     "name": "stdout",
     "output_type": "stream",
     "text": [
      "Moiz\n",
      "Audi\n",
      "A4\n",
      "Black\n",
      "210 km/hr\n",
      "\n",
      "\n",
      "Ali\n",
      "Nissan\n",
      "370Z\n",
      "Blue\n",
      "240 km/hr\n",
      "\n",
      "\n",
      "Rahim\n",
      "Toyota\n",
      "LandCruiser\n",
      "Black\n",
      "230 km/hr\n",
      "\n",
      "\n",
      "Abdullah\n",
      "Aston Martin\n",
      "DB4\n",
      "Black\n",
      "250 km/hr\n",
      "\n",
      "\n",
      "Mujeeb\n",
      "Suzuki\n",
      "Maruti Swift\n",
      "Red\n",
      "165 km/hr\n"
     ]
    }
   ],
   "source": [
    "#question 5\n",
    "class Car():\n",
    "    def __init__(self,name,brand,model,color,maxspeed):\n",
    "        self.name = name\n",
    "        self.brand = brand\n",
    "        self.model = model\n",
    "        self.color = color\n",
    "        self.maxspeed = maxspeed\n",
    "    \n",
    "    \n",
    "specs1 = Car(\"Moiz\",\"Audi\",\"A4\",\"Black\",\"210 km/hr\")\n",
    "print(specs1.name)\n",
    "print(specs1.brand)\n",
    "print(specs1.model)\n",
    "print(specs1.color)\n",
    "print(specs1.maxspeed)\n",
    "\n",
    "\n",
    "specs2 = Car(\"Ali\",\"Nissan\",\"370Z\",\"Blue\",\"240 km/hr\")\n",
    "print('\\n')\n",
    "print(specs2.name)\n",
    "print(specs2.brand)\n",
    "print(specs2.model)\n",
    "print(specs2.color)\n",
    "print(specs2.maxspeed)\n",
    "\n",
    "\n",
    "specs3 = Car(\"Rahim\",\"Toyota\",\"LandCruiser\",\"Black\",\"230 km/hr\")\n",
    "print('\\n')\n",
    "print(specs3.name)\n",
    "print(specs3.brand)\n",
    "print(specs3.model)\n",
    "print(specs3.color)\n",
    "print(specs3.maxspeed)\n",
    "\n",
    "\n",
    "specs4 = Car(\"Abdullah\",\"Aston Martin\",\"DB4\",\"Black\",\"250 km/hr\")\n",
    "print('\\n')\n",
    "print(specs4.name)\n",
    "print(specs4.brand)\n",
    "print(specs4.model)\n",
    "print(specs4.color)\n",
    "print(specs4.maxspeed)\n",
    "\n",
    "\n",
    "specs5 = Car(\"Mujeeb\",\"Suzuki\",\"Maruti Swift\",\"Red\",\"165 km/hr\")\n",
    "print('\\n')\n",
    "print(specs5.name)\n",
    "print(specs5.brand)\n",
    "print(specs5.model)\n",
    "print(specs5.color)\n",
    "print(specs5.maxspeed)\n"
   ]
  },
  {
   "cell_type": "code",
   "execution_count": null,
   "metadata": {},
   "outputs": [],
   "source": []
  }
 ],
 "metadata": {
  "kernelspec": {
   "display_name": "Python 3",
   "language": "python",
   "name": "python3"
  },
  "language_info": {
   "codemirror_mode": {
    "name": "ipython",
    "version": 3
   },
   "file_extension": ".py",
   "mimetype": "text/x-python",
   "name": "python",
   "nbconvert_exporter": "python",
   "pygments_lexer": "ipython3",
   "version": "3.7.4"
  }
 },
 "nbformat": 4,
 "nbformat_minor": 2
}
