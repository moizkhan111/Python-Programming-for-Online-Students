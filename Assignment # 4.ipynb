{
 "cells": [
  {
   "cell_type": "code",
   "execution_count": 1,
   "metadata": {},
   "outputs": [
    {
     "name": "stdout",
     "output_type": "stream",
     "text": [
      "{'first_name': 'Moiz', 'last_name': 'Khan', 'age': 18, 'city': 'Karachi'} \n",
      "\n",
      "\n",
      "Enter your Qualification: Intermediate\n",
      "\n",
      "Dictionary after add new key\n",
      "\n",
      "\n",
      " {'first_name': 'Moiz', 'last_name': 'Khan', 'age': 18, 'city': 'Karachi', 'Qualification': 'Intermediate'}\n",
      "\n",
      "Enter your Higher Academic Level: Undergraduate\n",
      "\n",
      "Dictionary after update\n",
      "\n",
      "\n",
      " {'first_name': 'Moiz', 'last_name': 'Khan', 'age': 18, 'city': 'Karachi', 'Qualification': 'Undergraduate'}\n",
      "\n",
      "Dictionary after delete\n",
      "\n",
      "\n",
      " {'first_name': 'Moiz', 'last_name': 'Khan', 'age': 18, 'city': 'Karachi'}\n"
     ]
    }
   ],
   "source": [
    "#question 1\n",
    "\n",
    "person = {\n",
    "    \"first_name\": \"Moiz\",\n",
    "    \"last_name\": \"Khan\",\n",
    "    \"age\": 18,\n",
    "    \"city\": \"Karachi\"\n",
    "}\n",
    "print(person,\"\\n\")\n",
    "add = input(\"\\nEnter your Qualification: \")\n",
    "person[\"Qualification\"] = add\n",
    "print(\"\\nDictionary after add new key\\n\")\n",
    "print(\"\\n\",person)\n",
    "update = input(\"\\nEnter your Higher Academic Level: \")\n",
    "person[\"Qualification\"] = update\n",
    "print(\"\\nDictionary after update\\n\")\n",
    "print(\"\\n\",person)\n",
    "del person[\"Qualification\"]\n",
    "print(\"\\nDictionary after delete\\n\")\n",
    "print(\"\\n\",person)"
   ]
  },
  {
   "cell_type": "code",
   "execution_count": 2,
   "metadata": {},
   "outputs": [
    {
     "name": "stdout",
     "output_type": "stream",
     "text": [
      "The City's Name:  Karachi\n",
      "The Information:  {'Population': '14.5 million', 'Fact': 'Largest city of Pakistan', 'Country': 'Pakistan'} \n",
      "\n",
      "The City's Name:  Barcelona\n",
      "The Information:  {'Population': '5.51 million', 'Fact': 'Día de Sant Jordi', 'Country': 'Spain'} \n",
      "\n",
      "The City's Name:  Moscow\n",
      "The Information:  {'Population': '11.92 million', 'Fact': 'Unconquered City', 'Country': 'Russia'} \n",
      "\n"
     ]
    }
   ],
   "source": [
    "#question 2\n",
    "\n",
    "cities = {\n",
    "    \"Karachi\": {\n",
    "        \"Population\": \"14.5 million\",\n",
    "        \"Fact\": \"Largest city of Pakistan\",\n",
    "        \"Country\": \"Pakistan\"\n",
    "    },\n",
    "    \"Barcelona\": {\n",
    "        \"Population\": \"5.51 million\",\n",
    "        \"Fact\": \"Día de Sant Jordi\",\n",
    "        \"Country\": \"Spain\"\n",
    "    },\n",
    "    \"Moscow\": {\n",
    "        \"Population\": \"11.92 million\",\n",
    "        \"Fact\": \"Unconquered City\",\n",
    "        \"Country\": \"Russia\"\n",
    "    }\n",
    "}\n",
    "for key,value in cities.items():\n",
    "    print(\"The City's Name: \",key)\n",
    "    print(\"The Information: \",value,\"\\n\")\n"
   ]
  },
  {
   "cell_type": "code",
   "execution_count": 10,
   "metadata": {},
   "outputs": [
    {
     "name": "stdout",
     "output_type": "stream",
     "text": [
      "Tell your Age: 17\n",
      "Your ticket's is $15\n",
      "Do you want to Continue Press y for Yes & Press any keys for exit: y\n",
      "Tell your Age: 12\n",
      "Your ticket's price is $10\n",
      "Do you want to Continue Press y for Yes & Press any keys for exit: y\n",
      "Tell your Age: 43\n",
      "Your ticket's is $15\n",
      "Do you want to Continue Press y for Yes & Press any keys for exit: e\n",
      "Program is Terminate\n"
     ]
    }
   ],
   "source": [
    "#question 3\n",
    "repeat = 'y'\n",
    "while repeat == 'y':\n",
    "    age = int(input(\"Tell your Age: \"))\n",
    "    if age < 3:\n",
    "        print(\"Your ticket's price is Free\")\n",
    "    elif age >= 3 and age <= 12:\n",
    "        print(\"Your ticket's price is $10\")\n",
    "    elif age > 12:\n",
    "        print(\"Your ticket's is $15\")\n",
    "    else:\n",
    "        print(\"Invalid Input\")\n",
    "    repeat = input(\"Do you want to Continue Press y for Yes & Press any keys for exit: \")\n",
    "    if repeat != 'y':\n",
    "        print(\"Program is Terminate\")"
   ]
  },
  {
   "cell_type": "code",
   "execution_count": 7,
   "metadata": {},
   "outputs": [
    {
     "name": "stdout",
     "output_type": "stream",
     "text": [
      "Enter the Book's title: Hunger games\n",
      "One of my favorite books is:  Hunger games\n"
     ]
    }
   ],
   "source": [
    "#question 4\n",
    "def favorite_book(book):\n",
    "    print(\"One of my favorite books is: \",book)\n",
    "book = input(\"Enter the Book's title: \")\n",
    "favorite_book(book)"
   ]
  },
  {
   "cell_type": "code",
   "execution_count": 11,
   "metadata": {},
   "outputs": [
    {
     "name": "stdout",
     "output_type": "stream",
     "text": [
      "Enter the Guess Number: 4\n",
      "You Guess Correct Number\n",
      "Computer's Guess Number:  4\n",
      "Enter the Guess Number: 7\n",
      "You Guess Lower Number\n",
      "Computer's Guess Number:  11\n",
      "Enter the Guess Number: 23\n",
      "You Guess Lower Number\n",
      "Computer's Guess Number:  26\n"
     ]
    }
   ],
   "source": [
    "#question 5\n",
    "import random\n",
    "count = 0\n",
    "while count < 3:\n",
    "    guess = int(input(\"Enter the Guess Number: \"))\n",
    "    count += 1\n",
    "    rand = random.randint(1,30)\n",
    "    if guess == rand:\n",
    "        print(\"You Guess Correct Number\")\n",
    "    elif guess > rand:\n",
    "        print(\"You Guess Higher Number\")\n",
    "    elif guess < rand:\n",
    "        print(\"You Guess Lower Number\")\n",
    "    print(\"Computer's Guess Number: \",rand)"
   ]
  },
  {
   "cell_type": "code",
   "execution_count": null,
   "metadata": {},
   "outputs": [],
   "source": []
  }
 ],
 "metadata": {
  "kernelspec": {
   "display_name": "Python 3",
   "language": "python",
   "name": "python3"
  },
  "language_info": {
   "codemirror_mode": {
    "name": "ipython",
    "version": 3
   },
   "file_extension": ".py",
   "mimetype": "text/x-python",
   "name": "python",
   "nbconvert_exporter": "python",
   "pygments_lexer": "ipython3",
   "version": "3.7.4"
  }
 },
 "nbformat": 4,
 "nbformat_minor": 2
}
