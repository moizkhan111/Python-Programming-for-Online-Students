{
 "cells": [
  {
   "cell_type": "code",
   "execution_count": 1,
   "metadata": {},
   "outputs": [
    {
     "name": "stdout",
     "output_type": "stream",
     "text": [
      "enter marks out of 100: 90\n",
      "enter marks out of 100: 56\n",
      "enter marks out of 100: 26\n",
      "enter marks out of 100: 87\n",
      "enter marks out of 100: 67\n",
      "totalmarks = 326\n",
      "percentage = 65.2\n",
      "grade D\n"
     ]
    }
   ],
   "source": [
    "marks=[]\n",
    "totalmarks=0;\n",
    "for i in range (5):\n",
    "    x=int(input(\"enter marks out of 100: \"))\n",
    "  \n",
    "    marks.append(x)\n",
    "    totalmarks=totalmarks+x\n",
    "\n",
    "print(\"totalmarks =\",totalmarks)  \n",
    "percentage=(totalmarks*100)/500\n",
    "print(\"percentage =\",percentage)\n",
    "if percentage>=90:\n",
    "    print(\"grade A\")\n",
    "elif percentage>=80:\n",
    "    print(\"grade B\")\n",
    "elif percentage>=70:\n",
    "    print(\"grade C\")    \n",
    "elif percentage>=60:\n",
    "    print(\"grade D\") \n",
    "else:\n",
    "    print(\"fail\")"
   ]
  },
  {
   "cell_type": "code",
   "execution_count": 5,
   "metadata": {},
   "outputs": [
    {
     "name": "stdout",
     "output_type": "stream",
     "text": [
      "enter number:  5\n",
      " Odd\n"
     ]
    }
   ],
   "source": [
    "x=int(input(\"enter number: \"))\n",
    "if x%2==0:\n",
    "    print(\" Even \")\n",
    "else:\n",
    "    print(\" Odd\")"
   ]
  },
  {
   "cell_type": "code",
   "execution_count": 7,
   "metadata": {},
   "outputs": [
    {
     "name": "stdout",
     "output_type": "stream",
     "text": [
      "6\n"
     ]
    }
   ],
   "source": [
    "list=[22,21,33,75,55,45]\n",
    "print(len(list))"
   ]
  },
  {
   "cell_type": "code",
   "execution_count": 8,
   "metadata": {},
   "outputs": [
    {
     "name": "stdout",
     "output_type": "stream",
     "text": [
      "sum of list= 176\n"
     ]
    }
   ],
   "source": [
    "list=[67,28,43,4,34]\n",
    "x=len(list)\n",
    "sum=0\n",
    "for i in range (x):\n",
    "    sum=sum+list[i]\n",
    "print(\"sum of list=\",sum)"
   ]
  },
  {
   "cell_type": "code",
   "execution_count": 10,
   "metadata": {},
   "outputs": [
    {
     "name": "stdout",
     "output_type": "stream",
     "text": [
      "88\n"
     ]
    }
   ],
   "source": [
    "# question 05\n",
    "list=[88,77,31,5,52]\n",
    "print(max(list))"
   ]
  },
  {
   "cell_type": "code",
   "execution_count": null,
   "metadata": {},
   "outputs": [],
   "source": [
    "list=[1,1,2,3,5,8,13,21,34,55,89]\n",
    "x=len(list)\n",
    "for i in range(x):\n",
    "    if list[i]<5:\n",
    "        print(list[i])"
   ]
  }
 ],
 "metadata": {
  "kernelspec": {
   "display_name": "Python 3",
   "language": "python",
   "name": "python3"
  },
  "language_info": {
   "codemirror_mode": {
    "name": "ipython",
    "version": 3
   },
   "file_extension": ".py",
   "mimetype": "text/x-python",
   "name": "python",
   "nbconvert_exporter": "python",
   "pygments_lexer": "ipython3",
   "version": "3.7.4"
  }
 },
 "nbformat": 4,
 "nbformat_minor": 2
}
