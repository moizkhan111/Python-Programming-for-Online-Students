{
 "cells": [
  {
   "cell_type": "code",
   "execution_count": 1,
   "metadata": {},
   "outputs": [
    {
     "name": "stdout",
     "output_type": "stream",
     "text": [
      "Enter Number to calculate it's factorial: 4\n",
      "24\n"
     ]
    }
   ],
   "source": [
    "#Question 1\n",
    "def PositiveInteger(number):\n",
    "    if int(number) > 0 :\n",
    "        return True\n",
    "    else:\n",
    "        return False\n",
    "def calcFactorial(number):\n",
    "    factorial = 1\n",
    "    if PositiveInteger(number) == True:\n",
    "        number = int(number)\n",
    "        for i in range(1, number + 1):\n",
    "            factorial = factorial * i\n",
    "        print(factorial)\n",
    "    else:\n",
    "        print(\"Invalid input\")\n",
    "\n",
    "factorial = input(\"Enter Number to calculate it's factorial: \")\n",
    "calcFactorial(factorial)\n"
   ]
  },
  {
   "cell_type": "code",
   "execution_count": 2,
   "metadata": {},
   "outputs": [
    {
     "name": "stdout",
     "output_type": "stream",
     "text": [
      "Enter String:Moiz Khan\n",
      "Upper case 2\n",
      "Lower case 6\n"
     ]
    }
   ],
   "source": [
    "#Question 2\n",
    "def CountUpperLower(string):\n",
    "    upper=0;\n",
    "    lower=0;\n",
    "    for i in string:\n",
    "        if i>=\"A\" and i<=\"Z\":\n",
    "            upper +=1;\n",
    "        elif i>=\"a\" and i<=\"z\":\n",
    "            lower +=1;\n",
    "    print(\"Upper case\",upper);\n",
    "    print(\"Lower case\", lower);\n",
    "\n",
    "string = input(\"Enter String:\");\n",
    "CountUpperLower(string);"
   ]
  },
  {
   "cell_type": "code",
   "execution_count": 3,
   "metadata": {},
   "outputs": [
    {
     "name": "stdout",
     "output_type": "stream",
     "text": [
      "Enter number of elements: 4\n",
      "2\n",
      "6\n",
      "9\n",
      "3\n",
      "2, 6, "
     ]
    }
   ],
   "source": [
    "#Question 3\n",
    "List = [];\n",
    "even = int(input(\"Enter number of elements: \"));\n",
    "for i in range(0, even):\n",
    "    num= int(input());\n",
    "    List.append(num)\n",
    "def EvenNum(List):\n",
    "    for num in List:\n",
    "        if num % 2==0:  \n",
    "            print(num, end =\", \");\n",
    "EvenNum(List);"
   ]
  },
  {
   "cell_type": "code",
   "execution_count": 19,
   "metadata": {},
   "outputs": [
    {
     "name": "stdout",
     "output_type": "stream",
     "text": [
      "Enter any word: Madam\n",
      "Your Entered words \"Madam\" are Palindrome\n"
     ]
    }
   ],
   "source": [
    "#Question 4\n",
    "word = input(\"Enter any word: \")\n",
    "palindrome = \"\"\n",
    "for letter in word[-1::-1].lower():\n",
    "    palindrome = palindrome + letter\n",
    "if palindrome == word.lower():\n",
    "    print(f\"Your Entered words \\\"{word}\\\" are Palindrome\")\n",
    "else:\n",
    "    print(f\"Your Entered words {word} are not Palindrome\")"
   ]
  },
  {
   "cell_type": "code",
   "execution_count": 4,
   "metadata": {},
   "outputs": [
    {
     "name": "stdout",
     "output_type": "stream",
     "text": [
      "Enter num to check it is prime or not: 7\n",
      "7 is a prime number \n"
     ]
    }
   ],
   "source": [
    "#Question 5\n",
    "num = int(input(\"Enter num to check it is prime or not: \"));\n",
    "def checkPrime(num):\n",
    "    if num>1:\n",
    "        for i in range(2,num//2):\n",
    "            if(num % i)==0:\n",
    "                print(num, \" is not a prime\");\n",
    "                break;\n",
    "            else:\n",
    "                print(num, \"is a prime number \");\n",
    "    else:\n",
    "        print(num, \"is not a prime number\");\n",
    "\n",
    "checkPrime(num);"
   ]
  },
  {
   "cell_type": "code",
   "execution_count": 18,
   "metadata": {},
   "outputs": [
    {
     "name": "stdout",
     "output_type": "stream",
     "text": [
      "The Customer Shopping's list are: \n",
      "Tomato\n",
      "Wheat\n",
      "Biscuit\n",
      "Chocolates\n"
     ]
    }
   ],
   "source": [
    "#Question 6\n",
    "def items(*item):\n",
    "    print(\"The Customer Shopping's list are: \")\n",
    "    for value in item:\n",
    "        print(value)\n",
    "items(\"Tomato\", \"Wheat\", \"Biscuit\", \"Chocolates\")"
   ]
  },
  {
   "cell_type": "code",
   "execution_count": null,
   "metadata": {},
   "outputs": [],
   "source": []
  },
  {
   "cell_type": "code",
   "execution_count": null,
   "metadata": {},
   "outputs": [],
   "source": []
  }
 ],
 "metadata": {
  "kernelspec": {
   "display_name": "Python 3",
   "language": "python",
   "name": "python3"
  },
  "language_info": {
   "codemirror_mode": {
    "name": "ipython",
    "version": 3
   },
   "file_extension": ".py",
   "mimetype": "text/x-python",
   "name": "python",
   "nbconvert_exporter": "python",
   "pygments_lexer": "ipython3",
   "version": "3.7.4"
  }
 },
 "nbformat": 4,
 "nbformat_minor": 2
}
