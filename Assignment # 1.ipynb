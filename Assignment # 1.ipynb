{
 "cells": [
  {
   "cell_type": "code",
   "execution_count": 1,
   "metadata": {},
   "outputs": [
    {
     "name": "stdout",
     "output_type": "stream",
     "text": [
      "Twinkle, Twinkle, little star,\n",
      "    How I wonder what you are!\n",
      "          Up Above the world so high, \n",
      "          Like a diamond in the sky.\n",
      "Twinkle, Twinkle, little star,\n",
      "    How I wonder what you are!\n"
     ]
    }
   ],
   "source": [
    "print(\"Twinkle, Twinkle, little star,\")\n",
    "print(\"    How I wonder what you are!\")\n",
    "print(\"          Up Above the world so high, \")\n",
    "print(\"          Like a diamond in the sky.\")\n",
    "print(\"Twinkle, Twinkle, little star,\")\n",
    "print(\"    How I wonder what you are!\")\n"
   ]
  },
  {
   "cell_type": "code",
   "execution_count": 2,
   "metadata": {},
   "outputs": [
    {
     "name": "stdout",
     "output_type": "stream",
     "text": [
      "<function python_version at 0x000002248C0AD708>\n"
     ]
    }
   ],
   "source": [
    "from platform import python_version\n",
    "print(python_version)\n",
    "\n"
   ]
  },
  {
   "cell_type": "code",
   "execution_count": 3,
   "metadata": {},
   "outputs": [
    {
     "name": "stdout",
     "output_type": "stream",
     "text": [
      "2019-11-03 01:40:23.000753\n"
     ]
    }
   ],
   "source": [
    "from datetime import datetime\n",
    "now = datetime.now()\n",
    "print(now)\n"
   ]
  },
  {
   "cell_type": "code",
   "execution_count": 4,
   "metadata": {},
   "outputs": [
    {
     "name": "stdout",
     "output_type": "stream",
     "text": [
      "Enter the radius of the circle:  6\n",
      "113.09733552923255\n"
     ]
    }
   ],
   "source": [
    "import math\n",
    "radius = float(input (\"Enter the radius of the circle:  \"))\n",
    "Area = math.pi * radius * radius\n",
    "print(Area)\n"
   ]
  },
  {
   "cell_type": "code",
   "execution_count": 5,
   "metadata": {},
   "outputs": [
    {
     "name": "stdout",
     "output_type": "stream",
     "text": [
      "Write your first name:  abdul\n",
      "Write your last name:  moiz\n",
      "moizabdul\n"
     ]
    }
   ],
   "source": [
    "first_name = input(\"Write your first name:  \")\n",
    "last_name = input(\"Write your last name:  \")\n",
    "print(last_name + first_name)\n",
    "\n",
    "\n"
   ]
  },
  {
   "cell_type": "code",
   "execution_count": 6,
   "metadata": {},
   "outputs": [
    {
     "name": "stdout",
     "output_type": "stream",
     "text": [
      "Input Value:   9\n",
      "Input Value:   7\n",
      "Result of addition:   16\n"
     ]
    }
   ],
   "source": [
    "num1 = int(input(\"Input Value:   \"))\n",
    "num2 = int(input(\"Input Value:   \"))\n",
    "result = num1 + num2\n",
    "print(\"Result of addition:  \",result)\n"
   ]
  },
  {
   "cell_type": "code",
   "execution_count": null,
   "metadata": {},
   "outputs": [],
   "source": []
  }
 ],
 "metadata": {
  "kernelspec": {
   "display_name": "Python 3",
   "language": "python",
   "name": "python3"
  },
  "language_info": {
   "codemirror_mode": {
    "name": "ipython",
    "version": 3
   },
   "file_extension": ".py",
   "mimetype": "text/x-python",
   "name": "python",
   "nbconvert_exporter": "python",
   "pygments_lexer": "ipython3",
   "version": "3.7.4"
  }
 },
 "nbformat": 4,
 "nbformat_minor": 2
}
