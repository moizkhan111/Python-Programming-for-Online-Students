{
 "cells": [
  {
   "cell_type": "code",
   "execution_count": 1,
   "metadata": {},
   "outputs": [
    {
     "name": "stdout",
     "output_type": "stream",
     "text": [
      "Enter first value: 6\n",
      "Enter second value: 7\n",
      "Enter Operator: *\n",
      "42 answer\n"
     ]
    }
   ],
   "source": [
    "first_value = input(\"Enter first value: \"  )\n",
    "second_value = input(\"Enter second value: \")\n",
    "operator = input(\"Enter Operator: \")\n",
    "\n",
    "first_value = int(first_value)\n",
    "second_value = int(second_value)\n",
    "\n",
    "if operator == '+':\n",
    "    result = first_value + second_value\n",
    "    print(result,'answer')\n",
    "elif operator == '-':\n",
    "    result = first_value - second_value\n",
    "    print(result,'answer')\n",
    "elif operator == '/':\n",
    "    result = first_value / second_value\n",
    "    print(result,'answer')\n",
    "elif operator == '**':\n",
    "    result = first_value ** second_value\n",
    "    print(result,'answer')\n",
    "elif operator == '*':\n",
    "    result = first_value * second_value\n",
    "    print(result,'answer')\n",
    "else:\n",
    "    print(\"Enter correct operator\")\n"
   ]
  },
  {
   "cell_type": "code",
   "execution_count": 2,
   "metadata": {},
   "outputs": [
    {
     "name": "stdout",
     "output_type": "stream",
     "text": [
      "Numeric value is found = 12 At Index=0\n",
      "Numeric value is found = 19 At Index=5\n"
     ]
    }
   ],
   "source": [
    "arr = [12,\"mic\",\"yte\",\"poer\",\"lol\",19]\n",
    "for aa in arr:\n",
    "    if type(aa) == int or type(aa) == float:\n",
    "        print(f\"Numeric value is found = {aa} At Index={arr.index(aa)}\")"
   ]
  },
  {
   "cell_type": "code",
   "execution_count": 4,
   "metadata": {},
   "outputs": [
    {
     "name": "stdout",
     "output_type": "stream",
     "text": [
      "{'firstName': 'Abdul Moiz', 'lastName': 'Khan'}\n",
      "{'firstName': 'Abdul Moiz', 'lastName': 'Khan', 'mid': 'mk'}\n"
     ]
    }
   ],
   "source": [
    "dictionary = {\"firstName\":\"Abdul Moiz\", \"lastName\":\"Khan\"}\n",
    "print(dictionary)\n",
    "\n",
    "dictionary.update({\"mid\":\"mk\"})\n",
    "print(dictionary)"
   ]
  },
  {
   "cell_type": "code",
   "execution_count": 5,
   "metadata": {},
   "outputs": [
    {
     "name": "stdout",
     "output_type": "stream",
     "text": [
      "Sum = 98.7\n"
     ]
    }
   ],
   "source": [
    "result = 0\n",
    "dic = {1: 2 ,\n",
    "           2: \"Moiz\", \n",
    "           3: 6.7, \n",
    "           4:\"Unknown\",\n",
    "           5: 90}\n",
    "\n",
    "for value in dic.values():\n",
    "    if type(value) == int or type(value) == float:\n",
    "        result = result + value        \n",
    "        \n",
    "print(f\"Sum = {result}\")\n"
   ]
  },
  {
   "cell_type": "code",
   "execution_count": 6,
   "metadata": {},
   "outputs": [
    {
     "name": "stdout",
     "output_type": "stream",
     "text": [
      "Duplicated Moiz\n",
      "Duplicated Moiz\n",
      "Duplicated 1\n",
      "Duplicated 1\n",
      "Duplicated 5\n",
      "Duplicated 5\n",
      "Duplicated 5\n"
     ]
    }
   ],
   "source": [
    "the_list = [\"Moiz\", \"Moiz\", 1, 1, 5, 5, 9, 3, 4, 5, 6]\n",
    "for value in the_list:\n",
    "    if  the_list.count(value) > 1:\n",
    "        print(f\"Duplicated {value}\")"
   ]
  },
  {
   "cell_type": "code",
   "execution_count": 8,
   "metadata": {},
   "outputs": [
    {
     "name": "stdout",
     "output_type": "stream",
     "text": [
      "2 Already exists\n"
     ]
    }
   ],
   "source": [
    "dic = { 1: \"key1\",\n",
    "            2: \"key2\",\n",
    "            3: \"key3\"}\n",
    "\n",
    "given_key = 2\n",
    "\n",
    "for key in dic.keys():\n",
    "    if key == given_key:\n",
    "        print(f\"{given_key} Already exists\")"
   ]
  },
  {
   "cell_type": "code",
   "execution_count": null,
   "metadata": {},
   "outputs": [],
   "source": []
  }
 ],
 "metadata": {
  "kernelspec": {
   "display_name": "Python 3",
   "language": "python",
   "name": "python3"
  },
  "language_info": {
   "codemirror_mode": {
    "name": "ipython",
    "version": 3
   },
   "file_extension": ".py",
   "mimetype": "text/x-python",
   "name": "python",
   "nbconvert_exporter": "python",
   "pygments_lexer": "ipython3",
   "version": "3.7.4"
  }
 },
 "nbformat": 4,
 "nbformat_minor": 2
}
